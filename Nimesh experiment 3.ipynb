{
 "cells": [
  {
   "cell_type": "code",
   "id": "initial_id",
   "metadata": {
    "collapsed": true,
    "ExecuteTime": {
     "end_time": "2025-02-25T07:39:22.289662Z",
     "start_time": "2025-02-25T07:39:22.254743Z"
    }
   },
   "source": [
    "import pandas as pd\n",
    "from sklearn.model_selection import train_test_split\n",
    "from sklearn.naive_bayes import GaussianNB\n",
    "from sklearn.metrics import accuracy_score\n",
    "import pandas as pd\n",
    "from sklearn.preprocessing import LabelEncoder\n",
    "\n",
    "# Load dataset\n",
    "file_path = (r\"C:\\Users\\nimes\\OneDrive\\Documents\\datasets\\Play_tennis - Play_tennis.csv\")  # Change to your actual file path\n",
    "data = pd.read_csv(file_path)\n",
    "\n",
    "# Handle missing or incorrect values\n",
    "data = data.replace(\"hingh\", \"high\")  # Fixing the typo in 'humidity'\n",
    "\n",
    "# Initialize LabelEncoders\n",
    "label_encoders = {}\n",
    "for column in data.columns:\n",
    "    if data[column].dtype == 'object':  # Encode only categorical columns\n",
    "        label_encoders[column] = LabelEncoder()\n",
    "        data[column] = label_encoders[column].fit_transform(data[column])\n",
    "\n",
    "# Convert to float\n",
    "data = data.astype(float)\n",
    "\n",
    "print(data.head())\n",
    "\n",
    "# Save the transformed dataset\n",
    "data.to_csv(\"encoded_dataset.csv\", index=False)\n",
    "\n",
    "# Load dataset\n",
    "file_path = (r\"C:\\Users\\nimes\\PycharmProjects\\college\\encoded_dataset.csv\")  # Change this to your actual dataset path\n",
    "data = pd.read_csv(file_path)\n",
    "\n",
    "# Assuming the last column is the target variable\n",
    "y = data.iloc[:, -1]\n",
    "X = data.iloc[:, :-1]\n",
    "\n",
    "# Split data into training and testing sets\n",
    "X_train, X_test, y_train, y_test = train_test_split(X, y, test_size=0.2, random_state=42)\n",
    "\n",
    "# Create a Gaussian Naïve Bayes classifier\n",
    "classifier = GaussianNB()\n",
    "\n",
    "# Train the model\n",
    "classifier.fit(X_train, y_train)\n",
    "\n",
    "# Predict on test data\n",
    "y_pred = classifier.predict(X_test)\n",
    "\n",
    "# Compute accuracy\n",
    "accuracy = accuracy_score(y_test, y_pred)\n",
    "print(f\"Accuracy of Naïve Bayes classifier: {accuracy * 100:.2f}%\")"
   ],
   "outputs": [
    {
     "name": "stdout",
     "output_type": "stream",
     "text": [
      "   outlook  temperature  humidity  windy  play\n",
      "0      0.0          1.0       0.0    0.0   1.0\n",
      "1      0.0          0.0       1.0    1.0   1.0\n",
      "2      0.0          2.0       0.0    1.0   1.0\n",
      "3      0.0          1.0       1.0    0.0   1.0\n",
      "4      1.0          2.0       0.0    0.0   1.0\n",
      "Accuracy of Naïve Bayes classifier: 33.33%\n"
     ]
    }
   ],
   "execution_count": 5
  },
  {
   "metadata": {},
   "cell_type": "code",
   "outputs": [],
   "execution_count": null,
   "source": "",
   "id": "7f9808070f1c2bc2"
  }
 ],
 "metadata": {
  "kernelspec": {
   "display_name": "Python 3",
   "language": "python",
   "name": "python3"
  },
  "language_info": {
   "codemirror_mode": {
    "name": "ipython",
    "version": 2
   },
   "file_extension": ".py",
   "mimetype": "text/x-python",
   "name": "python",
   "nbconvert_exporter": "python",
   "pygments_lexer": "ipython2",
   "version": "2.7.6"
  }
 },
 "nbformat": 4,
 "nbformat_minor": 5
}
