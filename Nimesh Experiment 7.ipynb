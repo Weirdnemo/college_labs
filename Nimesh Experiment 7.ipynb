{
 "cells": [
  {
   "cell_type": "code",
   "id": "initial_id",
   "metadata": {
    "collapsed": true,
    "ExecuteTime": {
     "end_time": "2025-02-25T07:11:26.127567Z",
     "start_time": "2025-02-25T07:11:26.121695Z"
    }
   },
   "source": [
    "import pandas\n",
    "import numpy as np\n",
    "import pandas as pd\n",
    "from sklearn.model_selection import train_test_split\n",
    "from sklearn.linear_model import LogisticRegression\n",
    "from sklearn.metrics import accuracy_score, f1_score\n",
    "from sklearn.utils import resample\n",
    "from sklearn.ensemble import RandomForestRegressor\n",
    "from sklearn.tree import DecisionTreeRegressor\n",
    "from sklearn.naive_bayes import GaussianNB\n",
    "from sklearn import svm\n"
   ],
   "outputs": [],
   "execution_count": 95
  },
  {
   "metadata": {
    "ExecuteTime": {
     "end_time": "2025-02-25T07:11:26.813886Z",
     "start_time": "2025-02-25T07:11:26.736073Z"
    }
   },
   "cell_type": "code",
   "source": [
    "df = pd.read_csv(r\"C:\\Users\\nimes\\OneDrive\\Documents\\datasets\\diabetes_dataset.csv\")\n",
    "df.describe()"
   ],
   "id": "17093bf86fbb3d41",
   "outputs": [
    {
     "data": {
      "text/plain": [
       "               Age  Pregnancies          BMI      Glucose  BloodPressure  \\\n",
       "count  9538.000000  9538.000000  9538.000000  9538.000000    9538.000000   \n",
       "mean     53.577584     7.986161    27.052364   106.104183      84.475781   \n",
       "std      20.764651     4.933469     5.927955    21.918590      14.123480   \n",
       "min      18.000000     0.000000    15.000000    50.000000      60.000000   \n",
       "25%      36.000000     4.000000    22.870000    91.000000      74.000000   \n",
       "50%      53.000000     8.000000    27.050000   106.000000      84.000000   \n",
       "75%      72.000000    12.000000    31.180000   121.000000      94.000000   \n",
       "max      89.000000    16.000000    49.660000   207.200000     138.000000   \n",
       "\n",
       "             HbA1c          LDL          HDL  Triglycerides  \\\n",
       "count  9538.000000  9538.000000  9538.000000    9538.000000   \n",
       "mean      4.650661   100.133456    49.953418     151.147746   \n",
       "std       0.476395    29.911910    15.242194      48.951627   \n",
       "min       4.000000   -12.000000    -9.200000      50.000000   \n",
       "25%       4.300000    80.100000    39.700000     117.200000   \n",
       "50%       4.600000    99.900000    50.200000     150.550000   \n",
       "75%       5.000000   120.200000    60.200000     185.100000   \n",
       "max       6.900000   202.200000   107.800000     345.800000   \n",
       "\n",
       "       WaistCircumference  HipCircumference          WHR  FamilyHistory  \\\n",
       "count         9538.000000       9538.000000  9538.000000    9538.000000   \n",
       "mean            93.951678        103.060621     0.917400       0.302474   \n",
       "std             15.594468         13.438827     0.140828       0.459354   \n",
       "min             40.300000         54.800000     0.420000       0.000000   \n",
       "25%             83.400000         94.000000     0.820000       0.000000   \n",
       "50%             93.800000        103.200000     0.910000       0.000000   \n",
       "75%            104.600000        112.100000     1.010000       1.000000   \n",
       "max            163.000000        156.600000     1.490000       1.000000   \n",
       "\n",
       "          DietType  Hypertension  MedicationUse      Outcome  \n",
       "count  9538.000000   9538.000000    9538.000000  9538.000000  \n",
       "mean      0.486161      0.001048       0.405012     0.344097  \n",
       "std       0.661139      0.032364       0.490920     0.475098  \n",
       "min       0.000000      0.000000       0.000000     0.000000  \n",
       "25%       0.000000      0.000000       0.000000     0.000000  \n",
       "50%       0.000000      0.000000       0.000000     0.000000  \n",
       "75%       1.000000      0.000000       1.000000     1.000000  \n",
       "max       2.000000      1.000000       1.000000     1.000000  "
      ],
      "text/html": [
       "<div>\n",
       "<style scoped>\n",
       "    .dataframe tbody tr th:only-of-type {\n",
       "        vertical-align: middle;\n",
       "    }\n",
       "\n",
       "    .dataframe tbody tr th {\n",
       "        vertical-align: top;\n",
       "    }\n",
       "\n",
       "    .dataframe thead th {\n",
       "        text-align: right;\n",
       "    }\n",
       "</style>\n",
       "<table border=\"1\" class=\"dataframe\">\n",
       "  <thead>\n",
       "    <tr style=\"text-align: right;\">\n",
       "      <th></th>\n",
       "      <th>Age</th>\n",
       "      <th>Pregnancies</th>\n",
       "      <th>BMI</th>\n",
       "      <th>Glucose</th>\n",
       "      <th>BloodPressure</th>\n",
       "      <th>HbA1c</th>\n",
       "      <th>LDL</th>\n",
       "      <th>HDL</th>\n",
       "      <th>Triglycerides</th>\n",
       "      <th>WaistCircumference</th>\n",
       "      <th>HipCircumference</th>\n",
       "      <th>WHR</th>\n",
       "      <th>FamilyHistory</th>\n",
       "      <th>DietType</th>\n",
       "      <th>Hypertension</th>\n",
       "      <th>MedicationUse</th>\n",
       "      <th>Outcome</th>\n",
       "    </tr>\n",
       "  </thead>\n",
       "  <tbody>\n",
       "    <tr>\n",
       "      <th>count</th>\n",
       "      <td>9538.000000</td>\n",
       "      <td>9538.000000</td>\n",
       "      <td>9538.000000</td>\n",
       "      <td>9538.000000</td>\n",
       "      <td>9538.000000</td>\n",
       "      <td>9538.000000</td>\n",
       "      <td>9538.000000</td>\n",
       "      <td>9538.000000</td>\n",
       "      <td>9538.000000</td>\n",
       "      <td>9538.000000</td>\n",
       "      <td>9538.000000</td>\n",
       "      <td>9538.000000</td>\n",
       "      <td>9538.000000</td>\n",
       "      <td>9538.000000</td>\n",
       "      <td>9538.000000</td>\n",
       "      <td>9538.000000</td>\n",
       "      <td>9538.000000</td>\n",
       "    </tr>\n",
       "    <tr>\n",
       "      <th>mean</th>\n",
       "      <td>53.577584</td>\n",
       "      <td>7.986161</td>\n",
       "      <td>27.052364</td>\n",
       "      <td>106.104183</td>\n",
       "      <td>84.475781</td>\n",
       "      <td>4.650661</td>\n",
       "      <td>100.133456</td>\n",
       "      <td>49.953418</td>\n",
       "      <td>151.147746</td>\n",
       "      <td>93.951678</td>\n",
       "      <td>103.060621</td>\n",
       "      <td>0.917400</td>\n",
       "      <td>0.302474</td>\n",
       "      <td>0.486161</td>\n",
       "      <td>0.001048</td>\n",
       "      <td>0.405012</td>\n",
       "      <td>0.344097</td>\n",
       "    </tr>\n",
       "    <tr>\n",
       "      <th>std</th>\n",
       "      <td>20.764651</td>\n",
       "      <td>4.933469</td>\n",
       "      <td>5.927955</td>\n",
       "      <td>21.918590</td>\n",
       "      <td>14.123480</td>\n",
       "      <td>0.476395</td>\n",
       "      <td>29.911910</td>\n",
       "      <td>15.242194</td>\n",
       "      <td>48.951627</td>\n",
       "      <td>15.594468</td>\n",
       "      <td>13.438827</td>\n",
       "      <td>0.140828</td>\n",
       "      <td>0.459354</td>\n",
       "      <td>0.661139</td>\n",
       "      <td>0.032364</td>\n",
       "      <td>0.490920</td>\n",
       "      <td>0.475098</td>\n",
       "    </tr>\n",
       "    <tr>\n",
       "      <th>min</th>\n",
       "      <td>18.000000</td>\n",
       "      <td>0.000000</td>\n",
       "      <td>15.000000</td>\n",
       "      <td>50.000000</td>\n",
       "      <td>60.000000</td>\n",
       "      <td>4.000000</td>\n",
       "      <td>-12.000000</td>\n",
       "      <td>-9.200000</td>\n",
       "      <td>50.000000</td>\n",
       "      <td>40.300000</td>\n",
       "      <td>54.800000</td>\n",
       "      <td>0.420000</td>\n",
       "      <td>0.000000</td>\n",
       "      <td>0.000000</td>\n",
       "      <td>0.000000</td>\n",
       "      <td>0.000000</td>\n",
       "      <td>0.000000</td>\n",
       "    </tr>\n",
       "    <tr>\n",
       "      <th>25%</th>\n",
       "      <td>36.000000</td>\n",
       "      <td>4.000000</td>\n",
       "      <td>22.870000</td>\n",
       "      <td>91.000000</td>\n",
       "      <td>74.000000</td>\n",
       "      <td>4.300000</td>\n",
       "      <td>80.100000</td>\n",
       "      <td>39.700000</td>\n",
       "      <td>117.200000</td>\n",
       "      <td>83.400000</td>\n",
       "      <td>94.000000</td>\n",
       "      <td>0.820000</td>\n",
       "      <td>0.000000</td>\n",
       "      <td>0.000000</td>\n",
       "      <td>0.000000</td>\n",
       "      <td>0.000000</td>\n",
       "      <td>0.000000</td>\n",
       "    </tr>\n",
       "    <tr>\n",
       "      <th>50%</th>\n",
       "      <td>53.000000</td>\n",
       "      <td>8.000000</td>\n",
       "      <td>27.050000</td>\n",
       "      <td>106.000000</td>\n",
       "      <td>84.000000</td>\n",
       "      <td>4.600000</td>\n",
       "      <td>99.900000</td>\n",
       "      <td>50.200000</td>\n",
       "      <td>150.550000</td>\n",
       "      <td>93.800000</td>\n",
       "      <td>103.200000</td>\n",
       "      <td>0.910000</td>\n",
       "      <td>0.000000</td>\n",
       "      <td>0.000000</td>\n",
       "      <td>0.000000</td>\n",
       "      <td>0.000000</td>\n",
       "      <td>0.000000</td>\n",
       "    </tr>\n",
       "    <tr>\n",
       "      <th>75%</th>\n",
       "      <td>72.000000</td>\n",
       "      <td>12.000000</td>\n",
       "      <td>31.180000</td>\n",
       "      <td>121.000000</td>\n",
       "      <td>94.000000</td>\n",
       "      <td>5.000000</td>\n",
       "      <td>120.200000</td>\n",
       "      <td>60.200000</td>\n",
       "      <td>185.100000</td>\n",
       "      <td>104.600000</td>\n",
       "      <td>112.100000</td>\n",
       "      <td>1.010000</td>\n",
       "      <td>1.000000</td>\n",
       "      <td>1.000000</td>\n",
       "      <td>0.000000</td>\n",
       "      <td>1.000000</td>\n",
       "      <td>1.000000</td>\n",
       "    </tr>\n",
       "    <tr>\n",
       "      <th>max</th>\n",
       "      <td>89.000000</td>\n",
       "      <td>16.000000</td>\n",
       "      <td>49.660000</td>\n",
       "      <td>207.200000</td>\n",
       "      <td>138.000000</td>\n",
       "      <td>6.900000</td>\n",
       "      <td>202.200000</td>\n",
       "      <td>107.800000</td>\n",
       "      <td>345.800000</td>\n",
       "      <td>163.000000</td>\n",
       "      <td>156.600000</td>\n",
       "      <td>1.490000</td>\n",
       "      <td>1.000000</td>\n",
       "      <td>2.000000</td>\n",
       "      <td>1.000000</td>\n",
       "      <td>1.000000</td>\n",
       "      <td>1.000000</td>\n",
       "    </tr>\n",
       "  </tbody>\n",
       "</table>\n",
       "</div>"
      ]
     },
     "execution_count": 96,
     "metadata": {},
     "output_type": "execute_result"
    }
   ],
   "execution_count": 96
  },
  {
   "metadata": {
    "ExecuteTime": {
     "end_time": "2025-02-25T07:26:07.203758Z",
     "start_time": "2025-02-25T07:26:07.192260Z"
    }
   },
   "cell_type": "code",
   "source": [
    "target_column = \"Outcome\"\n",
    "X = df.drop(columns = target_column)\n",
    "y = df[target_column]"
   ],
   "id": "fa5004638697ba8a",
   "outputs": [],
   "execution_count": 110
  },
  {
   "metadata": {
    "ExecuteTime": {
     "end_time": "2025-02-25T07:26:08.370348Z",
     "start_time": "2025-02-25T07:26:08.359571Z"
    }
   },
   "cell_type": "code",
   "source": "X_train, X_test, y_train, y_test = train_test_split(X, y, test_size=0.2, random_state=42)",
   "id": "5c0589807745cbc4",
   "outputs": [],
   "execution_count": 111
  },
  {
   "metadata": {
    "ExecuteTime": {
     "end_time": "2025-02-25T07:26:08.658079Z",
     "start_time": "2025-02-25T07:26:08.583985Z"
    }
   },
   "cell_type": "code",
   "source": [
    "log_reg = LogisticRegression()\n",
    "log_reg.fit(X_train, y_train)\n",
    "y_pred = log_reg.predict(X_test)\n",
    "print(\"Logistic Regression Accuracy:\", accuracy_score(y_test, y_pred))"
   ],
   "id": "f2a94cdd26d25c05",
   "outputs": [
    {
     "name": "stdout",
     "output_type": "stream",
     "text": [
      "Logistic Regression Accuracy: 0.9722222222222222\n"
     ]
    },
    {
     "name": "stderr",
     "output_type": "stream",
     "text": [
      "C:\\Users\\nimes\\PycharmProjects\\college\\.venv\\Lib\\site-packages\\sklearn\\linear_model\\_logistic.py:465: ConvergenceWarning: lbfgs failed to converge (status=1):\n",
      "STOP: TOTAL NO. OF ITERATIONS REACHED LIMIT.\n",
      "\n",
      "Increase the number of iterations (max_iter) or scale the data as shown in:\n",
      "    https://scikit-learn.org/stable/modules/preprocessing.html\n",
      "Please also refer to the documentation for alternative solver options:\n",
      "    https://scikit-learn.org/stable/modules/linear_model.html#logistic-regression\n",
      "  n_iter_i = _check_optimize_result(\n"
     ]
    }
   ],
   "execution_count": 112
  },
  {
   "metadata": {
    "ExecuteTime": {
     "end_time": "2025-02-25T07:26:10.037790Z",
     "start_time": "2025-02-25T07:26:08.779854Z"
    }
   },
   "cell_type": "code",
   "source": [
    "rf_reg = RandomForestRegressor()\n",
    "rf_reg.fit(X_train, y_train)\n",
    "y_pred = rf_reg.predict(X_test)\n",
    "print(\"Random Forest Accuracy:\", accuracy_score(y_test, y_pred))"
   ],
   "id": "6626925b556c245a",
   "outputs": [
    {
     "name": "stdout",
     "output_type": "stream",
     "text": [
      "Random Forest Accuracy: 1.0\n"
     ]
    }
   ],
   "execution_count": 113
  },
  {
   "metadata": {
    "ExecuteTime": {
     "end_time": "2025-02-25T07:26:10.069036Z",
     "start_time": "2025-02-25T07:26:10.039801Z"
    }
   },
   "cell_type": "code",
   "source": [
    "dt_reg = DecisionTreeRegressor()\n",
    "dt_reg.fit(X_train, y_train)\n",
    "y_pred = dt_reg.predict(X_test)\n",
    "print(\"Decision Tree Accuracy:\", accuracy_score(y_test, y_pred))"
   ],
   "id": "d42834f174fd8fac",
   "outputs": [
    {
     "name": "stdout",
     "output_type": "stream",
     "text": [
      "Decision Tree Accuracy: 1.0\n"
     ]
    }
   ],
   "execution_count": 114
  },
  {
   "metadata": {
    "ExecuteTime": {
     "end_time": "2025-02-25T07:26:10.188031Z",
     "start_time": "2025-02-25T07:26:10.174813Z"
    }
   },
   "cell_type": "code",
   "source": [
    "nb = GaussianNB()\n",
    "nb.fit(X_train, y_train)\n",
    "y_pred = nb.predict(X_test)\n",
    "print(\"Naïve Bayes Accuracy:\", accuracy_score(y_test, y_pred))"
   ],
   "id": "5c93d719a7aea41c",
   "outputs": [
    {
     "name": "stdout",
     "output_type": "stream",
     "text": [
      "Naïve Bayes Accuracy: 0.960167714884696\n"
     ]
    }
   ],
   "execution_count": 115
  },
  {
   "metadata": {
    "ExecuteTime": {
     "end_time": "2025-02-25T07:26:32.711899Z",
     "start_time": "2025-02-25T07:26:10.195611Z"
    }
   },
   "cell_type": "code",
   "source": [
    "svm_model = svm.SVC(kernel='rbf', C=10, gamma=0.1)\n",
    "svm_model.fit(X_train, y_train)\n",
    "y_pred = svm_model.predict(X_test)\n",
    "print(\"SVM Accuracy:\", f1_score(y_test, y_pred))"
   ],
   "id": "ccff104793d87815",
   "outputs": [
    {
     "name": "stdout",
     "output_type": "stream",
     "text": [
      "SVM Accuracy: 0.0\n"
     ]
    }
   ],
   "execution_count": 116
  },
  {
   "metadata": {
    "ExecuteTime": {
     "end_time": "2025-02-25T07:26:33.739706Z",
     "start_time": "2025-02-25T07:26:32.771015Z"
    }
   },
   "cell_type": "code",
   "source": [
    "from sklearn.ensemble import RandomForestClassifier\n",
    "rf = RandomForestClassifier()\n",
    "rf.fit(X_train, y_train)\n",
    "print(pd.Series(rf.feature_importances_, index=df.drop(columns=[\"Outcome\"]).columns).sort_values(ascending=False))\n"
   ],
   "id": "21f9e15ecffdd14d",
   "outputs": [
    {
     "name": "stdout",
     "output_type": "stream",
     "text": [
      "FamilyHistory         0.824517\n",
      "Glucose               0.112114\n",
      "HbA1c                 0.021671\n",
      "BMI                   0.007321\n",
      "WaistCircumference    0.004873\n",
      "BloodPressure         0.004463\n",
      "HipCircumference      0.004433\n",
      "Age                   0.003975\n",
      "Triglycerides         0.003582\n",
      "LDL                   0.003408\n",
      "WHR                   0.003220\n",
      "HDL                   0.003127\n",
      "Pregnancies           0.001815\n",
      "MedicationUse         0.000957\n",
      "DietType              0.000493\n",
      "Hypertension          0.000028\n",
      "dtype: float64\n"
     ]
    }
   ],
   "execution_count": 117
  },
  {
   "metadata": {},
   "cell_type": "markdown",
   "source": "The observations from this notebook shows that only logistic regression and naive bayes can provide a optimal solution both ranging inbetween 96 to 98 % accuracy, whereas random forest, decision tree and SVM provides the most unreliable outcome.",
   "id": "316517f5d3254286"
  },
  {
   "metadata": {},
   "cell_type": "code",
   "outputs": [],
   "execution_count": null,
   "source": "",
   "id": "81f826fc271bef5"
  }
 ],
 "metadata": {
  "kernelspec": {
   "display_name": "Python 3",
   "language": "python",
   "name": "python3"
  },
  "language_info": {
   "codemirror_mode": {
    "name": "ipython",
    "version": 2
   },
   "file_extension": ".py",
   "mimetype": "text/x-python",
   "name": "python",
   "nbconvert_exporter": "python",
   "pygments_lexer": "ipython2",
   "version": "2.7.6"
  }
 },
 "nbformat": 4,
 "nbformat_minor": 5
}
